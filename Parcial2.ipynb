{
  "nbformat": 4,
  "nbformat_minor": 0,
  "metadata": {
    "colab": {
      "name": "Parcial2.ipynb",
      "provenance": [],
      "authorship_tag": "ABX9TyP0uPf8uZ5j4E/dVArXeV5J",
      "include_colab_link": true
    },
    "kernelspec": {
      "name": "python3",
      "display_name": "Python 3"
    },
    "language_info": {
      "name": "python"
    }
  },
  "cells": [
    {
      "cell_type": "markdown",
      "metadata": {
        "id": "view-in-github",
        "colab_type": "text"
      },
      "source": [
        "<a href=\"https://colab.research.google.com/github/sergio0623/parcial2/blob/master/Parcial2.ipynb\" target=\"_parent\"><img src=\"https://colab.research.google.com/assets/colab-badge.svg\" alt=\"Open In Colab\"/></a>"
      ]
    },
    {
      "cell_type": "code",
      "execution_count": 17,
      "metadata": {
        "id": "HYhTkdROmz2r",
        "colab": {
          "base_uri": "https://localhost:8080/"
        },
        "outputId": "e769c254-39ef-4498-9e0a-c449015d3430"
      },
      "outputs": [
        {
          "output_type": "stream",
          "name": "stdout",
          "text": [
            "Que cantidad de numeros agregara? 5\n",
            "Ahora escoge los numeros que estaran en 5 numeros: \n",
            "Ingresa el numero 1: 1\n",
            "Ingresa el numero 2: 2\n",
            "Ingresa el numero 3: 3\n",
            "Ingresa el numero 4: 4\n",
            "Ingresa el numero 5: 5\n",
            "La lista es:  [1, 2, 3, 4, 5]\n",
            "La lista invertida es:  [5 4 3 2 1]\n"
          ]
        }
      ],
      "source": [
        "import numpy as np\n",
        "\n",
        "cantidad = int(input(\"Que cantidad de numeros agregara? \"))\n",
        "print(f\"Ahora escoge los numeros que estaran en {cantidad} numeros: \")\n",
        "\n",
        "numeros =[]\n",
        "for i in range(cantidad):\n",
        "  numero = input(f\"Ingresa el numero {i+1}: \")\n",
        "  numero = int(numero)\n",
        "  numeros.append(numero)\n",
        "\n",
        "array =np.array(numeros)\n",
        "invertido = array[::-1]\n",
        "\n",
        "print(\"La lista es: \",numeros)\n",
        "print(\"La lista invertida es: \",invertido)"
      ]
    },
    {
      "cell_type": "code",
      "source": [
        ""
      ],
      "metadata": {
        "colab": {
          "base_uri": "https://localhost:8080/"
        },
        "id": "5eHonKwDyxEr",
        "outputId": "85265ab4-3173-4c92-cf33-afbf387eeec8"
      },
      "execution_count": 16,
      "outputs": [
        {
          "output_type": "stream",
          "name": "stdout",
          "text": [
            "[5 4 3 2 1]\n"
          ]
        }
      ]
    }
  ]
}